{
 "cells": [
  {
   "cell_type": "code",
   "execution_count": 1,
   "metadata": {
    "collapsed": true
   },
   "outputs": [],
   "source": [
    "import numpy as np\n",
    "import pandas as pd\n",
    "from sklearn.manifold import TSNE"
   ]
  },
  {
   "cell_type": "code",
   "execution_count": null,
   "metadata": {
    "collapsed": true
   },
   "outputs": [],
   "source": [
    "sns.set()\n",
    "data_tsne= {}\n",
    "for comp in [5, 10, 30, 50]:\n",
    "    for perplexity in [10, 30, 50]:\n",
    "    data_tsne[(comp, perplexity)]= TSNE(n_components= comp, init= 'random', random_state= 42, perplexity= perplexity).fit_transform(data_scaled)\n",
    "for i_tuple, data in data_tsne.items():\n",
    "    print(i_tuple)\n",
    "    data.to_pickle('./pkl_result/data_tSNE_dim{i_tuple[0]}_perplex{i_tuple[1]}.pkl'.format(i_tuple= i_tuple))"
   ]
  }
 ],
 "metadata": {
  "kernelspec": {
   "display_name": "Python 3",
   "language": "python",
   "name": "python3"
  },
  "language_info": {
   "codemirror_mode": {
    "name": "ipython",
    "version": 3
   },
   "file_extension": ".py",
   "mimetype": "text/x-python",
   "name": "python",
   "nbconvert_exporter": "python",
   "pygments_lexer": "ipython3",
   "version": "3.6.4"
  }
 },
 "nbformat": 4,
 "nbformat_minor": 2
}
